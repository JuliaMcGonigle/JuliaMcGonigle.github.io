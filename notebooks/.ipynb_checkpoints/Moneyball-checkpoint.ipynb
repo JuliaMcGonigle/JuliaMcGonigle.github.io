{
 "cells": [
  {
   "cell_type": "markdown",
   "id": "9557ac31-edff-46d1-9b4b-251f2c13c236",
   "metadata": {},
   "source": [
    "# Moneyball Project\n",
    "\n",
    "This is a project from an R Data Science course I completed on DataCamp. This project involves a problem faced in 2002 by the Oakland A's. Following the 2001 season, the team lost three key players. The front office took advantage of new baseball stastics to replace the lost players with cheaper ones to win 20 consecutive games. The story became the premise of Michael Lewis' 2003 book Moneyball: The Art of Winning an Unfair Game. This project is based off the book written by Michael Lewis (later turned into a movie staring Brad Pitt). <br> \n",
    "\n",
    "*Data from Sean Lahman:* http://www.seanlahman.com/baseball-archive/statistics/ <br>\n",
    "Batting and Salaries tables are used for this project\n",
    "\n",
    "#### Goal Of This Project\n",
    "Using these three metrics, replace 3 lost players with comparable stats and cheaper salaries<br><p>\n",
    "Batting Average (BA): Hits/AtBat<br>\n",
    "On Base Percentage (OBP): (Hits + BasesOnBalls + HitByPitch)/(AtBat + BasesOnBalls + HitByPitch + SacrificeFly)<br>\n",
    "Slugging Percentage (SLG): ('1B' + (2*'2B') + (3*'3B0') + (4*HomeRuns)) / AtBat <br>\n",
    "\n",
    "**The players lost were**<br>\n",
    "first baseman 2000 AL MVP Jason Giambi (giambja01)<br>\n",
    "outfielder Johnny Damon (damonjo01)<br>\n",
    "infielder Rainer Gustavo \"Ray\" Olmedo (saenzol01)<br>"
   ]
  },
  {
   "cell_type": "code",
   "execution_count": null,
   "id": "5a2bcebc-ff79-4d9a-b625-3dcc41d3d581",
   "metadata": {
    "tags": []
   },
   "outputs": [],
   "source": [
    "## load libraries and data\n",
    "library(tidyverse)\n",
    "\n",
    "Batting <- read_csv(\"Batting.csv\")\n",
    "Salaries <- read_csv(\"Salaries.csv\")"
   ]
  },
  {
   "cell_type": "markdown",
   "id": "0f33a0b2-c61d-40f2-a052-ebdc456bbab5",
   "metadata": {},
   "source": [
    "#### Data Wrangling and Exploration"
   ]
  },
  {
   "cell_type": "code",
   "execution_count": 15,
   "id": "116a08b5-5555-4bb6-b2be-e2758bd8bf20",
   "metadata": {},
   "outputs": [
    {
     "data": {
      "text/html": [
       "<table>\n",
       "<thead><tr><th scope=col>playerID</th><th scope=col>yearID</th><th scope=col>stint</th><th scope=col>teamID</th><th scope=col>lgID</th><th scope=col>G</th><th scope=col>G_batting</th><th scope=col>AB</th><th scope=col>R</th><th scope=col>H</th><th scope=col>...</th><th scope=col>SB</th><th scope=col>CS</th><th scope=col>BB</th><th scope=col>SO</th><th scope=col>IBB</th><th scope=col>HBP</th><th scope=col>SH</th><th scope=col>SF</th><th scope=col>GIDP</th><th scope=col>G_old</th></tr></thead>\n",
       "<tbody>\n",
       "\t<tr><td>aardsda01</td><td>2004     </td><td>1        </td><td>SFN      </td><td>NL       </td><td>11       </td><td>11       </td><td>0        </td><td>0        </td><td>0        </td><td>...      </td><td>0        </td><td>0        </td><td>0        </td><td>0        </td><td>0        </td><td>0        </td><td>0        </td><td>0        </td><td>0        </td><td>11       </td></tr>\n",
       "\t<tr><td>aardsda01</td><td>2006     </td><td>1        </td><td>CHN      </td><td>NL       </td><td>45       </td><td>43       </td><td>2        </td><td>0        </td><td>0        </td><td>...      </td><td>0        </td><td>0        </td><td>0        </td><td>0        </td><td>0        </td><td>0        </td><td>1        </td><td>0        </td><td>0        </td><td>45       </td></tr>\n",
       "\t<tr><td>aardsda01</td><td>2007     </td><td>1        </td><td>CHA      </td><td>AL       </td><td>25       </td><td> 2       </td><td>0        </td><td>0        </td><td>0        </td><td>...      </td><td>0        </td><td>0        </td><td>0        </td><td>0        </td><td>0        </td><td>0        </td><td>0        </td><td>0        </td><td>0        </td><td> 2       </td></tr>\n",
       "\t<tr><td>aardsda01</td><td>2008     </td><td>1        </td><td>BOS      </td><td>AL       </td><td>47       </td><td> 5       </td><td>1        </td><td>0        </td><td>0        </td><td>...      </td><td>0        </td><td>0        </td><td>0        </td><td>1        </td><td>0        </td><td>0        </td><td>0        </td><td>0        </td><td>0        </td><td> 5       </td></tr>\n",
       "\t<tr><td>aardsda01</td><td>2009     </td><td>1        </td><td>SEA      </td><td>AL       </td><td>73       </td><td> 3       </td><td>0        </td><td>0        </td><td>0        </td><td>...      </td><td>0        </td><td>0        </td><td>0        </td><td>0        </td><td>0        </td><td>0        </td><td>0        </td><td>0        </td><td>0        </td><td>NA       </td></tr>\n",
       "\t<tr><td>aardsda01</td><td>2010     </td><td>1        </td><td>SEA      </td><td>AL       </td><td>53       </td><td> 4       </td><td>0        </td><td>0        </td><td>0        </td><td>...      </td><td>0        </td><td>0        </td><td>0        </td><td>0        </td><td>0        </td><td>0        </td><td>0        </td><td>0        </td><td>0        </td><td>NA       </td></tr>\n",
       "</tbody>\n",
       "</table>\n"
      ],
      "text/latex": [
       "\\begin{tabular}{r|llllllllllllllllllllllll}\n",
       " playerID & yearID & stint & teamID & lgID & G & G\\_batting & AB & R & H & ... & SB & CS & BB & SO & IBB & HBP & SH & SF & GIDP & G\\_old\\\\\n",
       "\\hline\n",
       "\t aardsda01 & 2004      & 1         & SFN       & NL        & 11        & 11        & 0         & 0         & 0         & ...       & 0         & 0         & 0         & 0         & 0         & 0         & 0         & 0         & 0         & 11       \\\\\n",
       "\t aardsda01 & 2006      & 1         & CHN       & NL        & 45        & 43        & 2         & 0         & 0         & ...       & 0         & 0         & 0         & 0         & 0         & 0         & 1         & 0         & 0         & 45       \\\\\n",
       "\t aardsda01 & 2007      & 1         & CHA       & AL        & 25        &  2        & 0         & 0         & 0         & ...       & 0         & 0         & 0         & 0         & 0         & 0         & 0         & 0         & 0         &  2       \\\\\n",
       "\t aardsda01 & 2008      & 1         & BOS       & AL        & 47        &  5        & 1         & 0         & 0         & ...       & 0         & 0         & 0         & 1         & 0         & 0         & 0         & 0         & 0         &  5       \\\\\n",
       "\t aardsda01 & 2009      & 1         & SEA       & AL        & 73        &  3        & 0         & 0         & 0         & ...       & 0         & 0         & 0         & 0         & 0         & 0         & 0         & 0         & 0         & NA       \\\\\n",
       "\t aardsda01 & 2010      & 1         & SEA       & AL        & 53        &  4        & 0         & 0         & 0         & ...       & 0         & 0         & 0         & 0         & 0         & 0         & 0         & 0         & 0         & NA       \\\\\n",
       "\\end{tabular}\n"
      ],
      "text/markdown": [
       "\n",
       "| playerID | yearID | stint | teamID | lgID | G | G_batting | AB | R | H | ... | SB | CS | BB | SO | IBB | HBP | SH | SF | GIDP | G_old |\n",
       "|---|---|---|---|---|---|---|---|---|---|---|---|---|---|---|---|---|---|---|---|---|\n",
       "| aardsda01 | 2004      | 1         | SFN       | NL        | 11        | 11        | 0         | 0         | 0         | ...       | 0         | 0         | 0         | 0         | 0         | 0         | 0         | 0         | 0         | 11        |\n",
       "| aardsda01 | 2006      | 1         | CHN       | NL        | 45        | 43        | 2         | 0         | 0         | ...       | 0         | 0         | 0         | 0         | 0         | 0         | 1         | 0         | 0         | 45        |\n",
       "| aardsda01 | 2007      | 1         | CHA       | AL        | 25        |  2        | 0         | 0         | 0         | ...       | 0         | 0         | 0         | 0         | 0         | 0         | 0         | 0         | 0         |  2        |\n",
       "| aardsda01 | 2008      | 1         | BOS       | AL        | 47        |  5        | 1         | 0         | 0         | ...       | 0         | 0         | 0         | 1         | 0         | 0         | 0         | 0         | 0         |  5        |\n",
       "| aardsda01 | 2009      | 1         | SEA       | AL        | 73        |  3        | 0         | 0         | 0         | ...       | 0         | 0         | 0         | 0         | 0         | 0         | 0         | 0         | 0         | NA        |\n",
       "| aardsda01 | 2010      | 1         | SEA       | AL        | 53        |  4        | 0         | 0         | 0         | ...       | 0         | 0         | 0         | 0         | 0         | 0         | 0         | 0         | 0         | NA        |\n",
       "\n"
      ],
      "text/plain": [
       "  playerID  yearID stint teamID lgID G  G_batting AB R H ... SB CS BB SO IBB\n",
       "1 aardsda01 2004   1     SFN    NL   11 11        0  0 0 ... 0  0  0  0  0  \n",
       "2 aardsda01 2006   1     CHN    NL   45 43        2  0 0 ... 0  0  0  0  0  \n",
       "3 aardsda01 2007   1     CHA    AL   25  2        0  0 0 ... 0  0  0  0  0  \n",
       "4 aardsda01 2008   1     BOS    AL   47  5        1  0 0 ... 0  0  0  1  0  \n",
       "5 aardsda01 2009   1     SEA    AL   73  3        0  0 0 ... 0  0  0  0  0  \n",
       "6 aardsda01 2010   1     SEA    AL   53  4        0  0 0 ... 0  0  0  0  0  \n",
       "  HBP SH SF GIDP G_old\n",
       "1 0   0  0  0    11   \n",
       "2 0   1  0  0    45   \n",
       "3 0   0  0  0     2   \n",
       "4 0   0  0  0     5   \n",
       "5 0   0  0  0    NA   \n",
       "6 0   0  0  0    NA   "
      ]
     },
     "metadata": {},
     "output_type": "display_data"
    }
   ],
   "source": [
    "## Look at Batting dataframe\n",
    "head(Batting)\n",
    "\n",
    "# Calculate BA, OBP, and SLG batting meterics. Singles = (H-HR-3B-2B)\n",
    "BattingNew <- Batting %>% \n",
    "  mutate(BA = H/AB, \n",
    "         OBP = (H + BB + HBP)/(AB + BB + HBP + SF),\n",
    "         SLG = ((H-HR-X3B-X2B) + (2*X2B) + (3*X3B) + (4*HR))/AB\n",
    "         )"
   ]
  },
  {
   "cell_type": "code",
   "execution_count": 17,
   "id": "50f5fece-ed46-490d-9c03-020d7746dd94",
   "metadata": {},
   "outputs": [
    {
     "data": {
      "text/html": [
       "<table>\n",
       "<thead><tr><th scope=col>playerID</th><th scope=col>yearID</th><th scope=col>stint</th><th scope=col>teamID</th><th scope=col>lgID</th><th scope=col>G</th><th scope=col>G_batting</th><th scope=col>AB</th><th scope=col>R</th><th scope=col>H</th><th scope=col>...</th><th scope=col>SO</th><th scope=col>IBB</th><th scope=col>HBP</th><th scope=col>SH</th><th scope=col>SF</th><th scope=col>GIDP</th><th scope=col>G_old</th><th scope=col>BA</th><th scope=col>OBP</th><th scope=col>SLG</th></tr></thead>\n",
       "<tbody>\n",
       "\t<tr><td>aardsda01</td><td>2004     </td><td>1        </td><td>SFN      </td><td>NL       </td><td>11       </td><td>11       </td><td>0        </td><td>0        </td><td>0        </td><td>...      </td><td>0        </td><td>0        </td><td>0        </td><td>0        </td><td>0        </td><td>0        </td><td>11       </td><td>NaN      </td><td>NaN      </td><td>NaN      </td></tr>\n",
       "\t<tr><td>aardsda01</td><td>2006     </td><td>1        </td><td>CHN      </td><td>NL       </td><td>45       </td><td>43       </td><td>2        </td><td>0        </td><td>0        </td><td>...      </td><td>0        </td><td>0        </td><td>0        </td><td>1        </td><td>0        </td><td>0        </td><td>45       </td><td>  0      </td><td>  0      </td><td>  0      </td></tr>\n",
       "\t<tr><td>aardsda01</td><td>2007     </td><td>1        </td><td>CHA      </td><td>AL       </td><td>25       </td><td> 2       </td><td>0        </td><td>0        </td><td>0        </td><td>...      </td><td>0        </td><td>0        </td><td>0        </td><td>0        </td><td>0        </td><td>0        </td><td> 2       </td><td>NaN      </td><td>NaN      </td><td>NaN      </td></tr>\n",
       "\t<tr><td>aardsda01</td><td>2008     </td><td>1        </td><td>BOS      </td><td>AL       </td><td>47       </td><td> 5       </td><td>1        </td><td>0        </td><td>0        </td><td>...      </td><td>1        </td><td>0        </td><td>0        </td><td>0        </td><td>0        </td><td>0        </td><td> 5       </td><td>  0      </td><td>  0      </td><td>  0      </td></tr>\n",
       "\t<tr><td>aardsda01</td><td>2009     </td><td>1        </td><td>SEA      </td><td>AL       </td><td>73       </td><td> 3       </td><td>0        </td><td>0        </td><td>0        </td><td>...      </td><td>0        </td><td>0        </td><td>0        </td><td>0        </td><td>0        </td><td>0        </td><td>NA       </td><td>NaN      </td><td>NaN      </td><td>NaN      </td></tr>\n",
       "\t<tr><td>aardsda01</td><td>2010     </td><td>1        </td><td>SEA      </td><td>AL       </td><td>53       </td><td> 4       </td><td>0        </td><td>0        </td><td>0        </td><td>...      </td><td>0        </td><td>0        </td><td>0        </td><td>0        </td><td>0        </td><td>0        </td><td>NA       </td><td>NaN      </td><td>NaN      </td><td>NaN      </td></tr>\n",
       "</tbody>\n",
       "</table>\n"
      ],
      "text/latex": [
       "\\begin{tabular}{r|lllllllllllllllllllllllllll}\n",
       " playerID & yearID & stint & teamID & lgID & G & G\\_batting & AB & R & H & ... & SO & IBB & HBP & SH & SF & GIDP & G\\_old & BA & OBP & SLG\\\\\n",
       "\\hline\n",
       "\t aardsda01 & 2004      & 1         & SFN       & NL        & 11        & 11        & 0         & 0         & 0         & ...       & 0         & 0         & 0         & 0         & 0         & 0         & 11        & NaN       & NaN       & NaN      \\\\\n",
       "\t aardsda01 & 2006      & 1         & CHN       & NL        & 45        & 43        & 2         & 0         & 0         & ...       & 0         & 0         & 0         & 1         & 0         & 0         & 45        &   0       &   0       &   0      \\\\\n",
       "\t aardsda01 & 2007      & 1         & CHA       & AL        & 25        &  2        & 0         & 0         & 0         & ...       & 0         & 0         & 0         & 0         & 0         & 0         &  2        & NaN       & NaN       & NaN      \\\\\n",
       "\t aardsda01 & 2008      & 1         & BOS       & AL        & 47        &  5        & 1         & 0         & 0         & ...       & 1         & 0         & 0         & 0         & 0         & 0         &  5        &   0       &   0       &   0      \\\\\n",
       "\t aardsda01 & 2009      & 1         & SEA       & AL        & 73        &  3        & 0         & 0         & 0         & ...       & 0         & 0         & 0         & 0         & 0         & 0         & NA        & NaN       & NaN       & NaN      \\\\\n",
       "\t aardsda01 & 2010      & 1         & SEA       & AL        & 53        &  4        & 0         & 0         & 0         & ...       & 0         & 0         & 0         & 0         & 0         & 0         & NA        & NaN       & NaN       & NaN      \\\\\n",
       "\\end{tabular}\n"
      ],
      "text/markdown": [
       "\n",
       "| playerID | yearID | stint | teamID | lgID | G | G_batting | AB | R | H | ... | SO | IBB | HBP | SH | SF | GIDP | G_old | BA | OBP | SLG |\n",
       "|---|---|---|---|---|---|---|---|---|---|---|---|---|---|---|---|---|---|---|---|---|\n",
       "| aardsda01 | 2004      | 1         | SFN       | NL        | 11        | 11        | 0         | 0         | 0         | ...       | 0         | 0         | 0         | 0         | 0         | 0         | 11        | NaN       | NaN       | NaN       |\n",
       "| aardsda01 | 2006      | 1         | CHN       | NL        | 45        | 43        | 2         | 0         | 0         | ...       | 0         | 0         | 0         | 1         | 0         | 0         | 45        |   0       |   0       |   0       |\n",
       "| aardsda01 | 2007      | 1         | CHA       | AL        | 25        |  2        | 0         | 0         | 0         | ...       | 0         | 0         | 0         | 0         | 0         | 0         |  2        | NaN       | NaN       | NaN       |\n",
       "| aardsda01 | 2008      | 1         | BOS       | AL        | 47        |  5        | 1         | 0         | 0         | ...       | 1         | 0         | 0         | 0         | 0         | 0         |  5        |   0       |   0       |   0       |\n",
       "| aardsda01 | 2009      | 1         | SEA       | AL        | 73        |  3        | 0         | 0         | 0         | ...       | 0         | 0         | 0         | 0         | 0         | 0         | NA        | NaN       | NaN       | NaN       |\n",
       "| aardsda01 | 2010      | 1         | SEA       | AL        | 53        |  4        | 0         | 0         | 0         | ...       | 0         | 0         | 0         | 0         | 0         | 0         | NA        | NaN       | NaN       | NaN       |\n",
       "\n"
      ],
      "text/plain": [
       "  playerID  yearID stint teamID lgID G  G_batting AB R H ... SO IBB HBP SH SF\n",
       "1 aardsda01 2004   1     SFN    NL   11 11        0  0 0 ... 0  0   0   0  0 \n",
       "2 aardsda01 2006   1     CHN    NL   45 43        2  0 0 ... 0  0   0   1  0 \n",
       "3 aardsda01 2007   1     CHA    AL   25  2        0  0 0 ... 0  0   0   0  0 \n",
       "4 aardsda01 2008   1     BOS    AL   47  5        1  0 0 ... 1  0   0   0  0 \n",
       "5 aardsda01 2009   1     SEA    AL   73  3        0  0 0 ... 0  0   0   0  0 \n",
       "6 aardsda01 2010   1     SEA    AL   53  4        0  0 0 ... 0  0   0   0  0 \n",
       "  GIDP G_old BA  OBP SLG\n",
       "1 0    11    NaN NaN NaN\n",
       "2 0    45      0   0   0\n",
       "3 0     2    NaN NaN NaN\n",
       "4 0     5      0   0   0\n",
       "5 0    NA    NaN NaN NaN\n",
       "6 0    NA    NaN NaN NaN"
      ]
     },
     "metadata": {},
     "output_type": "display_data"
    },
    {
     "data": {
      "text/html": [
       "<table>\n",
       "<thead><tr><th scope=col>yearID</th><th scope=col>teamID</th><th scope=col>lgID</th><th scope=col>playerID</th><th scope=col>salary</th></tr></thead>\n",
       "<tbody>\n",
       "\t<tr><td>1985     </td><td>BAL      </td><td>AL       </td><td>murraed02</td><td>1472819  </td></tr>\n",
       "\t<tr><td>1985     </td><td>BAL      </td><td>AL       </td><td>lynnfr01 </td><td>1090000  </td></tr>\n",
       "\t<tr><td>1985     </td><td>BAL      </td><td>AL       </td><td>ripkeca01</td><td> 800000  </td></tr>\n",
       "\t<tr><td>1985     </td><td>BAL      </td><td>AL       </td><td>lacyle01 </td><td> 725000  </td></tr>\n",
       "\t<tr><td>1985     </td><td>BAL      </td><td>AL       </td><td>flanami01</td><td> 641667  </td></tr>\n",
       "\t<tr><td>1985     </td><td>BAL      </td><td>AL       </td><td>boddimi01</td><td> 625000  </td></tr>\n",
       "</tbody>\n",
       "</table>\n"
      ],
      "text/latex": [
       "\\begin{tabular}{r|lllll}\n",
       " yearID & teamID & lgID & playerID & salary\\\\\n",
       "\\hline\n",
       "\t 1985      & BAL       & AL        & murraed02 & 1472819  \\\\\n",
       "\t 1985      & BAL       & AL        & lynnfr01  & 1090000  \\\\\n",
       "\t 1985      & BAL       & AL        & ripkeca01 &  800000  \\\\\n",
       "\t 1985      & BAL       & AL        & lacyle01  &  725000  \\\\\n",
       "\t 1985      & BAL       & AL        & flanami01 &  641667  \\\\\n",
       "\t 1985      & BAL       & AL        & boddimi01 &  625000  \\\\\n",
       "\\end{tabular}\n"
      ],
      "text/markdown": [
       "\n",
       "| yearID | teamID | lgID | playerID | salary |\n",
       "|---|---|---|---|---|\n",
       "| 1985      | BAL       | AL        | murraed02 | 1472819   |\n",
       "| 1985      | BAL       | AL        | lynnfr01  | 1090000   |\n",
       "| 1985      | BAL       | AL        | ripkeca01 |  800000   |\n",
       "| 1985      | BAL       | AL        | lacyle01  |  725000   |\n",
       "| 1985      | BAL       | AL        | flanami01 |  641667   |\n",
       "| 1985      | BAL       | AL        | boddimi01 |  625000   |\n",
       "\n"
      ],
      "text/plain": [
       "  yearID teamID lgID playerID  salary \n",
       "1 1985   BAL    AL   murraed02 1472819\n",
       "2 1985   BAL    AL   lynnfr01  1090000\n",
       "3 1985   BAL    AL   ripkeca01  800000\n",
       "4 1985   BAL    AL   lacyle01   725000\n",
       "5 1985   BAL    AL   flanami01  641667\n",
       "6 1985   BAL    AL   boddimi01  625000"
      ]
     },
     "metadata": {},
     "output_type": "display_data"
    }
   ],
   "source": [
    "# Check new df\n",
    "head(BattingNew)\n",
    "\n",
    "## Look at Salaries df\n",
    "head(Salaries)"
   ]
  },
  {
   "cell_type": "code",
   "execution_count": 24,
   "id": "cb73c0d0-efb8-41e2-a3fb-c906ac75942d",
   "metadata": {},
   "outputs": [
    {
     "data": {
      "text/plain": [
       "   Min. 1st Qu.  Median    Mean 3rd Qu.    Max. \n",
       "   1871    1931    1970    1962    1995    2013 "
      ]
     },
     "metadata": {},
     "output_type": "display_data"
    },
    {
     "data": {
      "text/plain": [
       "   Min. 1st Qu.  Median    Mean 3rd Qu.    Max. \n",
       "   1985    1993    1999    1999    2006    2013 "
      ]
     },
     "metadata": {},
     "output_type": "display_data"
    },
    {
     "data": {
      "text/plain": [
       "   Min. 1st Qu.  Median    Mean 3rd Qu.    Max. \n",
       "   1985    1993    2000    2000    2007    2013 "
      ]
     },
     "metadata": {},
     "output_type": "display_data"
    },
    {
     "data": {
      "text/html": [
       "<table>\n",
       "<thead><tr><th scope=col>playerID</th><th scope=col>H</th><th scope=col>X2B</th><th scope=col>X3B</th><th scope=col>HR</th><th scope=col>OBP</th><th scope=col>SLG</th><th scope=col>BA</th><th scope=col>AB</th><th scope=col>salary</th></tr></thead>\n",
       "<tbody>\n",
       "\t<tr><td>damonjo01</td><td>165      </td><td>34       </td><td>4        </td><td> 9       </td><td>0.3235294</td><td>0.3633540</td><td>0.2562112</td><td>644      </td><td>7100000  </td></tr>\n",
       "\t<tr><td>giambja01</td><td>178      </td><td>47       </td><td>2        </td><td>38       </td><td>0.4769001</td><td>0.6596154</td><td>0.3423077</td><td>520      </td><td>4103333  </td></tr>\n",
       "\t<tr><td>saenzol01</td><td> 67      </td><td>21       </td><td>1        </td><td> 9       </td><td>0.2911765</td><td>0.3836066</td><td>0.2196721</td><td>305      </td><td> 290000  </td></tr>\n",
       "</tbody>\n",
       "</table>\n"
      ],
      "text/latex": [
       "\\begin{tabular}{r|llllllllll}\n",
       " playerID & H & X2B & X3B & HR & OBP & SLG & BA & AB & salary\\\\\n",
       "\\hline\n",
       "\t damonjo01 & 165       & 34        & 4         &  9        & 0.3235294 & 0.3633540 & 0.2562112 & 644       & 7100000  \\\\\n",
       "\t giambja01 & 178       & 47        & 2         & 38        & 0.4769001 & 0.6596154 & 0.3423077 & 520       & 4103333  \\\\\n",
       "\t saenzol01 &  67       & 21        & 1         &  9        & 0.2911765 & 0.3836066 & 0.2196721 & 305       &  290000  \\\\\n",
       "\\end{tabular}\n"
      ],
      "text/markdown": [
       "\n",
       "| playerID | H | X2B | X3B | HR | OBP | SLG | BA | AB | salary |\n",
       "|---|---|---|---|---|---|---|---|---|---|\n",
       "| damonjo01 | 165       | 34        | 4         |  9        | 0.3235294 | 0.3633540 | 0.2562112 | 644       | 7100000   |\n",
       "| giambja01 | 178       | 47        | 2         | 38        | 0.4769001 | 0.6596154 | 0.3423077 | 520       | 4103333   |\n",
       "| saenzol01 |  67       | 21        | 1         |  9        | 0.2911765 | 0.3836066 | 0.2196721 | 305       |  290000   |\n",
       "\n"
      ],
      "text/plain": [
       "  playerID  H   X2B X3B HR OBP       SLG       BA        AB  salary \n",
       "1 damonjo01 165 34  4    9 0.3235294 0.3633540 0.2562112 644 7100000\n",
       "2 giambja01 178 47  2   38 0.4769001 0.6596154 0.3423077 520 4103333\n",
       "3 saenzol01  67 21  1    9 0.2911765 0.3836066 0.2196721 305  290000"
      ]
     },
     "metadata": {},
     "output_type": "display_data"
    },
    {
     "data": {
      "text/html": [
       "11493333"
      ],
      "text/latex": [
       "11493333"
      ],
      "text/markdown": [
       "11493333"
      ],
      "text/plain": [
       "[1] 11493333"
      ]
     },
     "metadata": {},
     "output_type": "display_data"
    },
    {
     "data": {
      "text/html": [
       "1469"
      ],
      "text/latex": [
       "1469"
      ],
      "text/markdown": [
       "1469"
      ],
      "text/plain": [
       "[1] 1469"
      ]
     },
     "metadata": {},
     "output_type": "display_data"
    },
    {
     "data": {
      "text/html": [
       "0.363868677128079"
      ],
      "text/latex": [
       "0.363868677128079"
      ],
      "text/markdown": [
       "0.363868677128079"
      ],
      "text/plain": [
       "[1] 0.3638687"
      ]
     },
     "metadata": {},
     "output_type": "display_data"
    }
   ],
   "source": [
    "## Add salary to Batting df. Year and player are going to be the overlapping columns. \n",
    "# Check year for each dataframe and chop Batting down to same timeframe as Salaries.\n",
    "summary(BattingNew$yearID)\n",
    "summary(Salaries$yearID)\n",
    "\n",
    "BattingChopped <- BattingNew %>%\n",
    "  filter(yearID >= 1985)\n",
    "\n",
    "summary(BattingChopped$yearID)\n",
    "\n",
    "BattingMerged <- merge(BattingChopped, Salaries, by = c('playerID','yearID'))\n",
    "\n",
    "## Look at stats for three lost players (giambja01, damonjo01, saenzol01)\n",
    "LostBoys <- BattingMerged %>% \n",
    "  filter(playerID == 'giambja01' | playerID == 'damonjo01' | playerID == 'saenzol01')\n",
    "\n",
    "# Filter for year 2001 when we want to replace them, get H,2B,3B,HR,OBP,SLG,BA,AB,salary stats only\n",
    "LostBoysSubset <- LostBoys %>% \n",
    "  filter(yearID == 2001) %>% \n",
    "  select(playerID, H, X2B, X3B, HR, OBP, SLG, BA, AB, salary)\n",
    "\n",
    "LostBoysSubset\n",
    "\n",
    "## Find list of players to replace the three 'Lost Boys'\n",
    "# salary of three new cannot > 15 million\n",
    "# combined AB >= combined lost players\n",
    "# mean OBP >= mean OBP of lost players\n",
    "\n",
    "sum(LostBoysSubset$salary) # $11,493,333\n",
    "sum(LostBoysSubset$AB) # 1469\n",
    "mean(LostBoysSubset$OBP) # 0.3638687\n",
    "\n",
    "## Chop dataset to 2001 and the same stats\n",
    "BattingMergedChopped <- BattingMerged %>% \n",
    "  filter(yearID == 2001) %>% \n",
    "  select(playerID, H, X2B, X3B, HR, OBP, SLG, BA, AB, salary)\n",
    "\n",
    "#unique(BattingMergedChopped$playerID) #817 players in list"
   ]
  },
  {
   "cell_type": "markdown",
   "id": "885cf02f-b1fe-452a-a236-67049c0400d1",
   "metadata": {},
   "source": [
    "### Make Histograms to Define Cutoffs for Poorly Performing Players"
   ]
  },
  {
   "cell_type": "code",
   "execution_count": 26,
   "id": "dfe6d653-1eae-401a-8cc9-01dda33a645c",
   "metadata": {},
   "outputs": [
    {
     "name": "stderr",
     "output_type": "stream",
     "text": [
      "Warning message:\n",
      "\"Removed 168 rows containing non-finite values (stat_bin).\"Warning message:\n",
      "\"Removed 171 rows containing non-finite values (stat_bin).\""
     ]
    },
    {
     "data": {
      "image/png": "[encoded data removed]",
      "text/plain": [
       "plot without title"
      ]
     },
     "metadata": {},
     "output_type": "display_data"
    },
    {
     "name": "stderr",
     "output_type": "stream",
     "text": [
      "Warning message:\n",
      "\"Removed 171 rows containing non-finite values (stat_bin).\""
     ]
    },
    {
     "data": {
      "image/png": "[encoded data removed]",
      "text/plain": [
       "plot without title"
      ]
     },
     "metadata": {},
     "output_type": "display_data"
    },
    {
     "data": {
      "image/png": "[encoded data removed]",
      "text/plain": [
       "plot without title"
      ]
     },
     "metadata": {},
     "output_type": "display_data"
    }
   ],
   "source": [
    "## Look at the spread for OBP, BA, SLG\n",
    "\n",
    "## OBP (.3 - .4 is good), can remove players with < 0.3\n",
    "ggplot(BattingMergedChopped, aes(OBP)) + geom_histogram(bins=60) + \n",
    "  scale_x_continuous(breaks = seq(0.1, 1, length = 10))\n",
    "\n",
    "## BA (.3 is excellent), can remove players with < 0.21 based on spread\n",
    "ggplot(BattingMergedChopped, aes(BA)) + geom_histogram(bins = 60) +\n",
    "  scale_x_continuous(breaks = seq(0.1, 1, length = 10))\n",
    "\n",
    "## SLG: peak is around < 0.5, maybe not best metric to filter by\n",
    "ggplot(BattingMergedChopped, aes(SLG)) + geom_histogram(bins = 60)"
   ]
  },
  {
   "cell_type": "code",
   "execution_count": null,
   "id": "23b3b230-965c-474d-af70-b7c7dd2a1d04",
   "metadata": {},
   "outputs": [],
   "source": [
    "## Remove players based on their low OBP and low BA\n",
    "BattingRmLow <- BattingMergedChopped %>% \n",
    "  filter(OBP >= 0.3 & BA >= 0.21)\n",
    "\n",
    "## Mean, median, mode for stats\n",
    "mean(BattingRmLow$OBP) # 0.3622655\n",
    "median(BattingRmLow$OBP) # 0.3391054\n",
    "\n",
    "mean(BattingRmLow$BA) # 0.2942963\n",
    "median(BattingRmLow$BA) # 0.27559\n",
    "\n",
    "mean(BattingRmLow$SLG) # 0.4604938\n",
    "median(BattingRmLow$SLG) # 0.4388026"
   ]
  },
  {
   "cell_type": "code",
   "execution_count": 28,
   "id": "d0c77423-1799-4fa5-9aa0-5928eec255c1",
   "metadata": {},
   "outputs": [
    {
     "data": {
      "image/png": "[encoded data removed]",
      "text/plain": [
       "plot without title"
      ]
     },
     "metadata": {},
     "output_type": "display_data"
    }
   ],
   "source": [
    "## Look at spread of salary\n",
    "ggplot(BattingRmLow, aes(salary)) + geom_histogram(bins = 60)"
   ]
  },
  {
   "cell_type": "code",
   "execution_count": 31,
   "id": "2a6a72da-2ce3-4483-9cd5-f41ec4a53857",
   "metadata": {},
   "outputs": [
    {
     "data": {
      "text/plain": [
       "   Min. 1st Qu.  Median    Mean 3rd Qu.    Max. \n",
       " 0.3000  0.3229  0.3391  0.3623  0.3713  1.0000 "
      ]
     },
     "metadata": {},
     "output_type": "display_data"
    },
    {
     "data": {
      "text/plain": [
       "   Min. 1st Qu.  Median    Mean 3rd Qu.    Max. \n",
       " 0.2105  0.2565  0.2756  0.2943  0.3025  1.0000 "
      ]
     },
     "metadata": {},
     "output_type": "display_data"
    }
   ],
   "source": [
    "## Find cheapest players in the 3rd quartile for OBP and BA\n",
    "summary(BattingRmLow$OBP) #0.37\n",
    "summary(BattingRmLow$BA) #0.30\n",
    "\n",
    "## Filter players in 3rd Quartile for OBP and BA. Chopped down to 69 top players\n",
    "Players3Q <- BattingRmLow %>% \n",
    "  filter(OBP >= 0.37 & BA >= 0.30)\n",
    "\n",
    "## Sort by highest OBP, BA, and cheapest salary. Noticed a lot of low AB values.\n",
    "Players3Q <- Players3Q %>% \n",
    "  arrange(desc(OBP), desc(BA), salary)"
   ]
  },
  {
   "cell_type": "code",
   "execution_count": 32,
   "id": "d7cca3d0-e50d-46c4-a060-ff96559abaae",
   "metadata": {},
   "outputs": [
    {
     "data": {
      "image/png": "[encoded data removed]",
      "text/plain": [
       "plot without title"
      ]
     },
     "metadata": {},
     "output_type": "display_data"
    }
   ],
   "source": [
    "## Filter out low At Bats\n",
    "\n",
    "ggplot(Players3Q, aes(AB)) + geom_histogram(bins = 60)\n",
    "## Spread a bit, over 400 looks like a good cutoff"
   ]
  },
  {
   "cell_type": "code",
   "execution_count": 34,
   "id": "ffff0505-cfc4-48b1-ab34-f4d28a701791",
   "metadata": {},
   "outputs": [
    {
     "data": {
      "text/plain": [
       "   playerID               H              X2B             X3B        \n",
       " Length:36          Min.   :141.0   Min.   :23.00   Min.   : 0.000  \n",
       " Class :character   1st Qu.:161.5   1st Qu.:32.00   1st Qu.: 1.000  \n",
       " Mode  :character   Median :175.0   Median :35.00   Median : 2.000  \n",
       "                    Mean   :176.7   Mean   :36.75   Mean   : 3.278  \n",
       "                    3rd Qu.:191.5   3rd Qu.:40.00   3rd Qu.: 5.000  \n",
       "                    Max.   :242.0   Max.   :55.00   Max.   :12.000  \n",
       "       HR             OBP              SLG               BA        \n",
       " Min.   : 2.00   Min.   :0.3705   Min.   :0.4149   Min.   :0.3002  \n",
       " 1st Qu.:20.75   1st Qu.:0.3806   1st Qu.:0.5142   1st Qu.:0.3070  \n",
       " Median :31.00   Median :0.3954   Median :0.5650   Median :0.3176  \n",
       " Mean   :31.19   Mean   :0.4033   Mean   :0.5690   Mean   :0.3196  \n",
       " 3rd Qu.:38.00   3rd Qu.:0.4190   3rd Qu.:0.6091   3rd Qu.:0.3304  \n",
       " Max.   :73.00   Max.   :0.5151   Max.   :0.8634   Max.   :0.3501  \n",
       "       AB            salary        \n",
       " Min.   :449.0   Min.   :  200000  \n",
       " 1st Qu.:510.5   1st Qu.: 2420833  \n",
       " Median :557.0   Median : 5375000  \n",
       " Mean   :552.6   Mean   : 6187183  \n",
       " 3rd Qu.:590.8   3rd Qu.:10012500  \n",
       " Max.   :692.0   Max.   :22000000  "
      ]
     },
     "metadata": {},
     "output_type": "display_data"
    }
   ],
   "source": [
    "## PlayersHighAB now has 36 players\n",
    "PlayersHighAB <- Players3Q %>% \n",
    "  filter(AB > 400)\n",
    "\n",
    "## Check out spread for player stats\n",
    "summary(PlayersHighAB)\n",
    "## H: 141-242, HR: 2-73, OBP: 0.37-0.51, SLG: 0.41-0.86, BA: 0.3-0.35\n",
    "\n",
    "## Sort again by lowest salary, highest OBP, highest SLG.\n",
    "PlayersHighAB <- PlayersHighAB %>% \n",
    "  arrange(salary, desc(OBP), desc(SLG))"
   ]
  },
  {
   "cell_type": "markdown",
   "id": "ce218b15-3193-4e30-a7dd-220555a69584",
   "metadata": {},
   "source": [
    "### Solutions!\n",
    "The goal is three replacement players with: sum(AB) >= 1469 & mean(OBP) >= 0.3638687 & salary < 15000000"
   ]
  },
  {
   "cell_type": "code",
   "execution_count": null,
   "id": "a587b635-231f-4b02-a211-9cb210edec97",
   "metadata": {},
   "outputs": [],
   "source": [
    "### TWO SOLUTIONS, but many combos on the list of 36 would work.\n",
    "\n",
    "# One high salary player (28 row: bondsba01 or row 29: jonesch06) \n",
    "# 2 low salary players (1: pujolal01, 2: mientdo01, or any 2 from row 4 up)\n",
    "sum(PlayersHighAB[1:2,]$AB, PlayersHighAB[28,]$AB) # 1609\n",
    "mean(PlayersHighAB[1:2,]$OBP, PlayersHighAB[28,]$OBP) #0.39\n",
    "sum(PlayersHighAB[1:2,]$salary, PlayersHighAB[28,]$salary) #10,715,000\n",
    "\n",
    "## Dirt cheap, use 3 lowest salary. Batting stats even higher than lost players.\n",
    "sum(PlayersHighAB[1:3,]$AB) # 1750\n",
    "mean(PlayersHighAB[1:3,]$OBP) # 0.39\n",
    "sum(PlayersHighAB[1:3,]$salary) # 630,000"
   ]
  },
  {
   "cell_type": "code",
   "execution_count": 39,
   "id": "d4e70c57-3458-4819-9ec6-d32dd6f621af",
   "metadata": {},
   "outputs": [
    {
     "data": {
      "text/html": [
       "<table>\n",
       "<thead><tr><th scope=col>playerID</th><th scope=col>H</th><th scope=col>X2B</th><th scope=col>X3B</th><th scope=col>HR</th><th scope=col>OBP</th><th scope=col>SLG</th><th scope=col>BA</th><th scope=col>AB</th><th scope=col>salary</th></tr></thead>\n",
       "<tbody>\n",
       "\t<tr><td>pujolal01</td><td>194      </td><td>47       </td><td> 4       </td><td>37       </td><td>0.4029630</td><td>0.6101695</td><td>0.3288136</td><td>590      </td><td>  200000 </td></tr>\n",
       "\t<tr><td>mientdo01</td><td>166      </td><td>39       </td><td> 1       </td><td>15       </td><td>0.3865815</td><td>0.4640884</td><td>0.3057090</td><td>543      </td><td>  215000 </td></tr>\n",
       "\t<tr><td>pierrju01</td><td>202      </td><td>26       </td><td>11       </td><td> 2       </td><td>0.3781764</td><td>0.4149109</td><td>0.3273906</td><td>617      </td><td>  215000 </td></tr>\n",
       "\t<tr><td>loducpa01</td><td>147      </td><td>28       </td><td> 0       </td><td>25       </td><td>0.3735409</td><td>0.5434783</td><td>0.3195652</td><td>460      </td><td>  230000 </td></tr>\n",
       "\t<tr><td>berkmla01</td><td>191      </td><td>55       </td><td> 5       </td><td>34       </td><td>0.4302326</td><td>0.6204506</td><td>0.3310225</td><td>577      </td><td>  305000 </td></tr>\n",
       "\t<tr><td>millake01</td><td>141      </td><td>39       </td><td> 5       </td><td>20       </td><td>0.3737374</td><td>0.5567929</td><td>0.3140312</td><td>449      </td><td>  700000 </td></tr>\n",
       "\t<tr><td>catalfr01</td><td>153      </td><td>31       </td><td> 5       </td><td>11       </td><td>0.3913894</td><td>0.4902808</td><td>0.3304536</td><td>463      </td><td>  850000 </td></tr>\n",
       "\t<tr><td>nevinph01</td><td>167      </td><td>31       </td><td> 0       </td><td>41       </td><td>0.3878205</td><td>0.5879121</td><td>0.3058608</td><td>546      </td><td> 1625000 </td></tr>\n",
       "\t<tr><td>stewash01</td><td>202      </td><td>44       </td><td> 7       </td><td>12       </td><td>0.3710602</td><td>0.4625000</td><td>0.3156250</td><td>640      </td><td> 2183333 </td></tr>\n",
       "\t<tr><td>vidrojo01</td><td>155      </td><td>34       </td><td> 1       </td><td>15       </td><td>0.3705104</td><td>0.4855967</td><td>0.3189300</td><td>486      </td><td> 2500000 </td></tr>\n",
       "\t<tr><td>coninje01</td><td>163      </td><td>23       </td><td> 2       </td><td>14       </td><td>0.3860233</td><td>0.4427481</td><td>0.3110687</td><td>524      </td><td> 3000000 </td></tr>\n",
       "\t<tr><td>boonebr01</td><td>206      </td><td>37       </td><td> 3       </td><td>37       </td><td>0.3722628</td><td>0.5778491</td><td>0.3306581</td><td>623      </td><td> 3250000 </td></tr>\n",
       "\t<tr><td>ordonma01</td><td>181      </td><td>40       </td><td> 1       </td><td>31       </td><td>0.3815201</td><td>0.5328836</td><td>0.3052277</td><td>593      </td><td> 3750000 </td></tr>\n",
       "\t<tr><td>giambja01</td><td>178      </td><td>47       </td><td> 2       </td><td>38       </td><td>0.4769001</td><td>0.6596154</td><td>0.3423077</td><td>520      </td><td> 4103333 </td></tr>\n",
       "\t<tr><td>gonzalu01</td><td>198      </td><td>36       </td><td> 7       </td><td>57       </td><td>0.4285714</td><td>0.6880131</td><td>0.3251232</td><td>609      </td><td> 4833333 </td></tr>\n",
       "\t<tr><td>heltoto01</td><td>197      </td><td>54       </td><td> 2       </td><td>49       </td><td>0.4316547</td><td>0.6848382</td><td>0.3356048</td><td>587      </td><td> 4950000 </td></tr>\n",
       "\t<tr><td>sweenmi01</td><td>170      </td><td>46       </td><td> 0       </td><td>29       </td><td>0.3740095</td><td>0.5420394</td><td>0.3041145</td><td>559      </td><td> 5000000 </td></tr>\n",
       "\t<tr><td>aloumo01 </td><td>170      </td><td>31       </td><td> 1       </td><td>27       </td><td>0.3958692</td><td>0.5536062</td><td>0.3313840</td><td>513      </td><td> 5250000 </td></tr>\n",
       "\t<tr><td>martied01</td><td>144      </td><td>40       </td><td> 1       </td><td>23       </td><td>0.4234079</td><td>0.5425532</td><td>0.3063830</td><td>470      </td><td> 5500000 </td></tr>\n",
       "\t<tr><td>floydcl01</td><td>176      </td><td>44       </td><td> 4       </td><td>31       </td><td>0.3895072</td><td>0.5783784</td><td>0.3171171</td><td>555      </td><td> 5500000 </td></tr>\n",
       "\t<tr><td>suzukic01</td><td>242      </td><td>34       </td><td> 8       </td><td> 8       </td><td>0.3814714</td><td>0.4566474</td><td>0.3497110</td><td>692      </td><td> 5666667 </td></tr>\n",
       "\t<tr><td>guerrvl01</td><td>184      </td><td>45       </td><td> 4       </td><td>34       </td><td>0.3770492</td><td>0.5659432</td><td>0.3071786</td><td>599      </td><td> 6000000 </td></tr>\n",
       "\t<tr><td>edmonji01</td><td>152      </td><td>38       </td><td> 1       </td><td>30       </td><td>0.4102142</td><td>0.5640000</td><td>0.3040000</td><td>500      </td><td> 6333333 </td></tr>\n",
       "\t<tr><td>olerujo01</td><td>173      </td><td>32       </td><td> 1       </td><td>21       </td><td>0.4011799</td><td>0.4720280</td><td>0.3024476</td><td>572      </td><td> 6700000 </td></tr>\n",
       "\t<tr><td>gilesbr02</td><td>178      </td><td>37       </td><td> 7       </td><td>37       </td><td>0.4035608</td><td>0.5902778</td><td>0.3090278</td><td>576      </td><td> 7333333 </td></tr>\n",
       "\t<tr><td>alomaro01</td><td>193      </td><td>34       </td><td>12       </td><td>20       </td><td>0.4146707</td><td>0.5408696</td><td>0.3356522</td><td>575      </td><td> 7750000 </td></tr>\n",
       "\t<tr><td>sheffga01</td><td>160      </td><td>28       </td><td> 2       </td><td>36       </td><td>0.4174757</td><td>0.5825243</td><td>0.3106796</td><td>515      </td><td> 9916667 </td></tr>\n",
       "\t<tr><td>bondsba01</td><td>156      </td><td>32       </td><td> 2       </td><td>73       </td><td>0.5150602</td><td>0.8634454</td><td>0.3277311</td><td>476      </td><td>10300000 </td></tr>\n",
       "\t<tr><td>jonesch06</td><td>189      </td><td>33       </td><td> 5       </td><td>38       </td><td>0.4268833</td><td>0.6048951</td><td>0.3304196</td><td>572      </td><td>10333333 </td></tr>\n",
       "\t<tr><td>walkela01</td><td>174      </td><td>35       </td><td> 3       </td><td>38       </td><td>0.4492512</td><td>0.6619718</td><td>0.3501006</td><td>497      </td><td>12166667 </td></tr>\n",
       "\t<tr><td>willibe02</td><td>166      </td><td>38       </td><td> 0       </td><td>26       </td><td>0.3949447</td><td>0.5222222</td><td>0.3074074</td><td>540      </td><td>12357143 </td></tr>\n",
       "\t<tr><td>sosasa01 </td><td>189      </td><td>34       </td><td> 5       </td><td>64       </td><td>0.4374121</td><td>0.7365685</td><td>0.3275563</td><td>577      </td><td>12500000 </td></tr>\n",
       "\t<tr><td>jeterde01</td><td>191      </td><td>35       </td><td> 3       </td><td>21       </td><td>0.3773862</td><td>0.4804560</td><td>0.3110749</td><td>614      </td><td>12600000 </td></tr>\n",
       "\t<tr><td>ramirma02</td><td>162      </td><td>33       </td><td> 2       </td><td>41       </td><td>0.4048387</td><td>0.6086957</td><td>0.3062382</td><td>529      </td><td>13050000 </td></tr>\n",
       "\t<tr><td>piazzmi01</td><td>151      </td><td>29       </td><td> 0       </td><td>36       </td><td>0.3839442</td><td>0.5725646</td><td>0.3001988</td><td>503      </td><td>13571429 </td></tr>\n",
       "\t<tr><td>rodrial01</td><td>201      </td><td>34       </td><td> 1       </td><td>52       </td><td>0.3989071</td><td>0.6218354</td><td>0.3180380</td><td>632      </td><td>22000000 </td></tr>\n",
       "</tbody>\n",
       "</table>\n"
      ],
      "text/latex": [
       "\\begin{tabular}{r|llllllllll}\n",
       " playerID & H & X2B & X3B & HR & OBP & SLG & BA & AB & salary\\\\\n",
       "\\hline\n",
       "\t pujolal01 & 194       & 47        &  4        & 37        & 0.4029630 & 0.6101695 & 0.3288136 & 590       &   200000 \\\\\n",
       "\t mientdo01 & 166       & 39        &  1        & 15        & 0.3865815 & 0.4640884 & 0.3057090 & 543       &   215000 \\\\\n",
       "\t pierrju01 & 202       & 26        & 11        &  2        & 0.3781764 & 0.4149109 & 0.3273906 & 617       &   215000 \\\\\n",
       "\t loducpa01 & 147       & 28        &  0        & 25        & 0.3735409 & 0.5434783 & 0.3195652 & 460       &   230000 \\\\\n",
       "\t berkmla01 & 191       & 55        &  5        & 34        & 0.4302326 & 0.6204506 & 0.3310225 & 577       &   305000 \\\\\n",
       "\t millake01 & 141       & 39        &  5        & 20        & 0.3737374 & 0.5567929 & 0.3140312 & 449       &   700000 \\\\\n",
       "\t catalfr01 & 153       & 31        &  5        & 11        & 0.3913894 & 0.4902808 & 0.3304536 & 463       &   850000 \\\\\n",
       "\t nevinph01 & 167       & 31        &  0        & 41        & 0.3878205 & 0.5879121 & 0.3058608 & 546       &  1625000 \\\\\n",
       "\t stewash01 & 202       & 44        &  7        & 12        & 0.3710602 & 0.4625000 & 0.3156250 & 640       &  2183333 \\\\\n",
       "\t vidrojo01 & 155       & 34        &  1        & 15        & 0.3705104 & 0.4855967 & 0.3189300 & 486       &  2500000 \\\\\n",
       "\t coninje01 & 163       & 23        &  2        & 14        & 0.3860233 & 0.4427481 & 0.3110687 & 524       &  3000000 \\\\\n",
       "\t boonebr01 & 206       & 37        &  3        & 37        & 0.3722628 & 0.5778491 & 0.3306581 & 623       &  3250000 \\\\\n",
       "\t ordonma01 & 181       & 40        &  1        & 31        & 0.3815201 & 0.5328836 & 0.3052277 & 593       &  3750000 \\\\\n",
       "\t giambja01 & 178       & 47        &  2        & 38        & 0.4769001 & 0.6596154 & 0.3423077 & 520       &  4103333 \\\\\n",
       "\t gonzalu01 & 198       & 36        &  7        & 57        & 0.4285714 & 0.6880131 & 0.3251232 & 609       &  4833333 \\\\\n",
       "\t heltoto01 & 197       & 54        &  2        & 49        & 0.4316547 & 0.6848382 & 0.3356048 & 587       &  4950000 \\\\\n",
       "\t sweenmi01 & 170       & 46        &  0        & 29        & 0.3740095 & 0.5420394 & 0.3041145 & 559       &  5000000 \\\\\n",
       "\t aloumo01  & 170       & 31        &  1        & 27        & 0.3958692 & 0.5536062 & 0.3313840 & 513       &  5250000 \\\\\n",
       "\t martied01 & 144       & 40        &  1        & 23        & 0.4234079 & 0.5425532 & 0.3063830 & 470       &  5500000 \\\\\n",
       "\t floydcl01 & 176       & 44        &  4        & 31        & 0.3895072 & 0.5783784 & 0.3171171 & 555       &  5500000 \\\\\n",
       "\t suzukic01 & 242       & 34        &  8        &  8        & 0.3814714 & 0.4566474 & 0.3497110 & 692       &  5666667 \\\\\n",
       "\t guerrvl01 & 184       & 45        &  4        & 34        & 0.3770492 & 0.5659432 & 0.3071786 & 599       &  6000000 \\\\\n",
       "\t edmonji01 & 152       & 38        &  1        & 30        & 0.4102142 & 0.5640000 & 0.3040000 & 500       &  6333333 \\\\\n",
       "\t olerujo01 & 173       & 32        &  1        & 21        & 0.4011799 & 0.4720280 & 0.3024476 & 572       &  6700000 \\\\\n",
       "\t gilesbr02 & 178       & 37        &  7        & 37        & 0.4035608 & 0.5902778 & 0.3090278 & 576       &  7333333 \\\\\n",
       "\t alomaro01 & 193       & 34        & 12        & 20        & 0.4146707 & 0.5408696 & 0.3356522 & 575       &  7750000 \\\\\n",
       "\t sheffga01 & 160       & 28        &  2        & 36        & 0.4174757 & 0.5825243 & 0.3106796 & 515       &  9916667 \\\\\n",
       "\t bondsba01 & 156       & 32        &  2        & 73        & 0.5150602 & 0.8634454 & 0.3277311 & 476       & 10300000 \\\\\n",
       "\t jonesch06 & 189       & 33        &  5        & 38        & 0.4268833 & 0.6048951 & 0.3304196 & 572       & 10333333 \\\\\n",
       "\t walkela01 & 174       & 35        &  3        & 38        & 0.4492512 & 0.6619718 & 0.3501006 & 497       & 12166667 \\\\\n",
       "\t willibe02 & 166       & 38        &  0        & 26        & 0.3949447 & 0.5222222 & 0.3074074 & 540       & 12357143 \\\\\n",
       "\t sosasa01  & 189       & 34        &  5        & 64        & 0.4374121 & 0.7365685 & 0.3275563 & 577       & 12500000 \\\\\n",
       "\t jeterde01 & 191       & 35        &  3        & 21        & 0.3773862 & 0.4804560 & 0.3110749 & 614       & 12600000 \\\\\n",
       "\t ramirma02 & 162       & 33        &  2        & 41        & 0.4048387 & 0.6086957 & 0.3062382 & 529       & 13050000 \\\\\n",
       "\t piazzmi01 & 151       & 29        &  0        & 36        & 0.3839442 & 0.5725646 & 0.3001988 & 503       & 13571429 \\\\\n",
       "\t rodrial01 & 201       & 34        &  1        & 52        & 0.3989071 & 0.6218354 & 0.3180380 & 632       & 22000000 \\\\\n",
       "\\end{tabular}\n"
      ],
      "text/markdown": [
       "\n",
       "| playerID | H | X2B | X3B | HR | OBP | SLG | BA | AB | salary |\n",
       "|---|---|---|---|---|---|---|---|---|---|\n",
       "| pujolal01 | 194       | 47        |  4        | 37        | 0.4029630 | 0.6101695 | 0.3288136 | 590       |   200000  |\n",
       "| mientdo01 | 166       | 39        |  1        | 15        | 0.3865815 | 0.4640884 | 0.3057090 | 543       |   215000  |\n",
       "| pierrju01 | 202       | 26        | 11        |  2        | 0.3781764 | 0.4149109 | 0.3273906 | 617       |   215000  |\n",
       "| loducpa01 | 147       | 28        |  0        | 25        | 0.3735409 | 0.5434783 | 0.3195652 | 460       |   230000  |\n",
       "| berkmla01 | 191       | 55        |  5        | 34        | 0.4302326 | 0.6204506 | 0.3310225 | 577       |   305000  |\n",
       "| millake01 | 141       | 39        |  5        | 20        | 0.3737374 | 0.5567929 | 0.3140312 | 449       |   700000  |\n",
       "| catalfr01 | 153       | 31        |  5        | 11        | 0.3913894 | 0.4902808 | 0.3304536 | 463       |   850000  |\n",
       "| nevinph01 | 167       | 31        |  0        | 41        | 0.3878205 | 0.5879121 | 0.3058608 | 546       |  1625000  |\n",
       "| stewash01 | 202       | 44        |  7        | 12        | 0.3710602 | 0.4625000 | 0.3156250 | 640       |  2183333  |\n",
       "| vidrojo01 | 155       | 34        |  1        | 15        | 0.3705104 | 0.4855967 | 0.3189300 | 486       |  2500000  |\n",
       "| coninje01 | 163       | 23        |  2        | 14        | 0.3860233 | 0.4427481 | 0.3110687 | 524       |  3000000  |\n",
       "| boonebr01 | 206       | 37        |  3        | 37        | 0.3722628 | 0.5778491 | 0.3306581 | 623       |  3250000  |\n",
       "| ordonma01 | 181       | 40        |  1        | 31        | 0.3815201 | 0.5328836 | 0.3052277 | 593       |  3750000  |\n",
       "| giambja01 | 178       | 47        |  2        | 38        | 0.4769001 | 0.6596154 | 0.3423077 | 520       |  4103333  |\n",
       "| gonzalu01 | 198       | 36        |  7        | 57        | 0.4285714 | 0.6880131 | 0.3251232 | 609       |  4833333  |\n",
       "| heltoto01 | 197       | 54        |  2        | 49        | 0.4316547 | 0.6848382 | 0.3356048 | 587       |  4950000  |\n",
       "| sweenmi01 | 170       | 46        |  0        | 29        | 0.3740095 | 0.5420394 | 0.3041145 | 559       |  5000000  |\n",
       "| aloumo01  | 170       | 31        |  1        | 27        | 0.3958692 | 0.5536062 | 0.3313840 | 513       |  5250000  |\n",
       "| martied01 | 144       | 40        |  1        | 23        | 0.4234079 | 0.5425532 | 0.3063830 | 470       |  5500000  |\n",
       "| floydcl01 | 176       | 44        |  4        | 31        | 0.3895072 | 0.5783784 | 0.3171171 | 555       |  5500000  |\n",
       "| suzukic01 | 242       | 34        |  8        |  8        | 0.3814714 | 0.4566474 | 0.3497110 | 692       |  5666667  |\n",
       "| guerrvl01 | 184       | 45        |  4        | 34        | 0.3770492 | 0.5659432 | 0.3071786 | 599       |  6000000  |\n",
       "| edmonji01 | 152       | 38        |  1        | 30        | 0.4102142 | 0.5640000 | 0.3040000 | 500       |  6333333  |\n",
       "| olerujo01 | 173       | 32        |  1        | 21        | 0.4011799 | 0.4720280 | 0.3024476 | 572       |  6700000  |\n",
       "| gilesbr02 | 178       | 37        |  7        | 37        | 0.4035608 | 0.5902778 | 0.3090278 | 576       |  7333333  |\n",
       "| alomaro01 | 193       | 34        | 12        | 20        | 0.4146707 | 0.5408696 | 0.3356522 | 575       |  7750000  |\n",
       "| sheffga01 | 160       | 28        |  2        | 36        | 0.4174757 | 0.5825243 | 0.3106796 | 515       |  9916667  |\n",
       "| bondsba01 | 156       | 32        |  2        | 73        | 0.5150602 | 0.8634454 | 0.3277311 | 476       | 10300000  |\n",
       "| jonesch06 | 189       | 33        |  5        | 38        | 0.4268833 | 0.6048951 | 0.3304196 | 572       | 10333333  |\n",
       "| walkela01 | 174       | 35        |  3        | 38        | 0.4492512 | 0.6619718 | 0.3501006 | 497       | 12166667  |\n",
       "| willibe02 | 166       | 38        |  0        | 26        | 0.3949447 | 0.5222222 | 0.3074074 | 540       | 12357143  |\n",
       "| sosasa01  | 189       | 34        |  5        | 64        | 0.4374121 | 0.7365685 | 0.3275563 | 577       | 12500000  |\n",
       "| jeterde01 | 191       | 35        |  3        | 21        | 0.3773862 | 0.4804560 | 0.3110749 | 614       | 12600000  |\n",
       "| ramirma02 | 162       | 33        |  2        | 41        | 0.4048387 | 0.6086957 | 0.3062382 | 529       | 13050000  |\n",
       "| piazzmi01 | 151       | 29        |  0        | 36        | 0.3839442 | 0.5725646 | 0.3001988 | 503       | 13571429  |\n",
       "| rodrial01 | 201       | 34        |  1        | 52        | 0.3989071 | 0.6218354 | 0.3180380 | 632       | 22000000  |\n",
       "\n"
      ],
      "text/plain": [
       "   playerID  H   X2B X3B HR OBP       SLG       BA        AB  salary  \n",
       "1  pujolal01 194 47   4  37 0.4029630 0.6101695 0.3288136 590   200000\n",
       "2  mientdo01 166 39   1  15 0.3865815 0.4640884 0.3057090 543   215000\n",
       "3  pierrju01 202 26  11   2 0.3781764 0.4149109 0.3273906 617   215000\n",
       "4  loducpa01 147 28   0  25 0.3735409 0.5434783 0.3195652 460   230000\n",
       "5  berkmla01 191 55   5  34 0.4302326 0.6204506 0.3310225 577   305000\n",
       "6  millake01 141 39   5  20 0.3737374 0.5567929 0.3140312 449   700000\n",
       "7  catalfr01 153 31   5  11 0.3913894 0.4902808 0.3304536 463   850000\n",
       "8  nevinph01 167 31   0  41 0.3878205 0.5879121 0.3058608 546  1625000\n",
       "9  stewash01 202 44   7  12 0.3710602 0.4625000 0.3156250 640  2183333\n",
       "10 vidrojo01 155 34   1  15 0.3705104 0.4855967 0.3189300 486  2500000\n",
       "11 coninje01 163 23   2  14 0.3860233 0.4427481 0.3110687 524  3000000\n",
       "12 boonebr01 206 37   3  37 0.3722628 0.5778491 0.3306581 623  3250000\n",
       "13 ordonma01 181 40   1  31 0.3815201 0.5328836 0.3052277 593  3750000\n",
       "14 giambja01 178 47   2  38 0.4769001 0.6596154 0.3423077 520  4103333\n",
       "15 gonzalu01 198 36   7  57 0.4285714 0.6880131 0.3251232 609  4833333\n",
       "16 heltoto01 197 54   2  49 0.4316547 0.6848382 0.3356048 587  4950000\n",
       "17 sweenmi01 170 46   0  29 0.3740095 0.5420394 0.3041145 559  5000000\n",
       "18 aloumo01  170 31   1  27 0.3958692 0.5536062 0.3313840 513  5250000\n",
       "19 martied01 144 40   1  23 0.4234079 0.5425532 0.3063830 470  5500000\n",
       "20 floydcl01 176 44   4  31 0.3895072 0.5783784 0.3171171 555  5500000\n",
       "21 suzukic01 242 34   8   8 0.3814714 0.4566474 0.3497110 692  5666667\n",
       "22 guerrvl01 184 45   4  34 0.3770492 0.5659432 0.3071786 599  6000000\n",
       "23 edmonji01 152 38   1  30 0.4102142 0.5640000 0.3040000 500  6333333\n",
       "24 olerujo01 173 32   1  21 0.4011799 0.4720280 0.3024476 572  6700000\n",
       "25 gilesbr02 178 37   7  37 0.4035608 0.5902778 0.3090278 576  7333333\n",
       "26 alomaro01 193 34  12  20 0.4146707 0.5408696 0.3356522 575  7750000\n",
       "27 sheffga01 160 28   2  36 0.4174757 0.5825243 0.3106796 515  9916667\n",
       "28 bondsba01 156 32   2  73 0.5150602 0.8634454 0.3277311 476 10300000\n",
       "29 jonesch06 189 33   5  38 0.4268833 0.6048951 0.3304196 572 10333333\n",
       "30 walkela01 174 35   3  38 0.4492512 0.6619718 0.3501006 497 12166667\n",
       "31 willibe02 166 38   0  26 0.3949447 0.5222222 0.3074074 540 12357143\n",
       "32 sosasa01  189 34   5  64 0.4374121 0.7365685 0.3275563 577 12500000\n",
       "33 jeterde01 191 35   3  21 0.3773862 0.4804560 0.3110749 614 12600000\n",
       "34 ramirma02 162 33   2  41 0.4048387 0.6086957 0.3062382 529 13050000\n",
       "35 piazzmi01 151 29   0  36 0.3839442 0.5725646 0.3001988 503 13571429\n",
       "36 rodrial01 201 34   1  52 0.3989071 0.6218354 0.3180380 632 22000000"
      ]
     },
     "metadata": {},
     "output_type": "display_data"
    }
   ],
   "source": [
    "## Sorted by cheapest salary\n",
    "PlayersHighAB"
   ]
  }
 ],
 "metadata": {
  "kernelspec": {
   "display_name": "R",
   "language": "R",
   "name": "ir"
  },
  "language_info": {
   "codemirror_mode": "r",
   "file_extension": ".r",
   "mimetype": "text/x-r-source",
   "name": "R",
   "pygments_lexer": "r",
   "version": "3.6.1"
  }
 },
 "nbformat": 4,
 "nbformat_minor": 5
}
